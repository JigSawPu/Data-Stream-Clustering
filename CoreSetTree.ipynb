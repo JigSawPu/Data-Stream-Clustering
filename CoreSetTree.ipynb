{
 "cells": [
  {
   "cell_type": "code",
   "execution_count": 1,
   "metadata": {},
   "outputs": [],
   "source": [
    "import numpy as np\n",
    "import matplotlib.pyplot as plt"
   ]
  },
  {
   "cell_type": "code",
   "execution_count": 2,
   "metadata": {},
   "outputs": [],
   "source": [
    "class Node:\n",
    "    def __init__(self, subset, q):        \n",
    "        self.subset = subset\n",
    "        self.q = q\n",
    "        self.cost = self.distCalc().sum()\n",
    "        self.weight = len(self.subset)\n",
    "        \n",
    "        self.leftChild = None\n",
    "        self.rightChild = None\n",
    "        \n",
    "    def distCalc(self):\n",
    "        distances = ((self.subset - self.q[:, np.newaxis])**2).sum(axis=2)\n",
    "        return distances\n",
    "        \n",
    "    def subsetFinder(self):\n",
    "        dist = self.distCalc()\n",
    "        max_dist_index = np.unravel_index(np.argmax(dist, axis=None),\n",
    "                                          dist.shape)[1]\n",
    "        q2 = self.subset[max_dist_index][np.newaxis, :]\n",
    "        grou = np.vstack((self.q,q2))\n",
    "        grou_dist = ((self.subset - grou[:, np.newaxis])**2).sum(axis=2)\n",
    "        labels = np.argmin(grou_dist, axis=0)\n",
    "        subset1 = self.subset[labels == 0]\n",
    "        subset2 = self.subset[labels == 1]\n",
    "        return (subset1,self.q),(subset2,q2)"
   ]
  },
  {
   "cell_type": "code",
   "execution_count": 3,
   "metadata": {},
   "outputs": [],
   "source": [
    "class CoreSetTree:\n",
    "    def __init__(self, X, m):\n",
    "        self.wholeSet = X\n",
    "        self.m = m   \n",
    "        self.coreset = np.array([])\n",
    "\n",
    "    def fit(self):\n",
    "        np.random.seed(42)\n",
    "        q1 = self.wholeSet[np.random.choice(self.wholeSet.shape[0], 1, replace=False)]\n",
    "        self.coreset = np.append(self.coreset, q1).reshape(-1,2)\n",
    "        self.Root = Node(self.wholeSet, q1)     \n",
    "        for i in range(self.m):\n",
    "            self.MaxNode = None\n",
    "            self.MaxNodeCost = 0\n",
    "            self.visit(self.Root)\n",
    "            self.addChild(self.Root)\n",
    "            self.propagateUp(self.Root)\n",
    "    \n",
    "    def addChild(self, node):\n",
    "        if node:\n",
    "            self.addChild(node.leftChild)\n",
    "            self.addChild(node.rightChild)\n",
    "            if node.leftChild is None and node.rightChild is None:\n",
    "                if node.cost == self.MaxNodeCost:\n",
    "                    childs = self.MaxNode.subsetFinder()\n",
    "                    self.coreset = np.vstack((self.coreset, childs[1][1]))\n",
    "                    node.leftChild = Node(childs[0][0], \n",
    "                                          childs[0][1])\n",
    "                    node.rightChild = Node(childs[1][0],\n",
    "                                           childs[1][1])\n",
    "    \n",
    "    def visit(self, node):\n",
    "        if node:\n",
    "            self.visit(node.leftChild)\n",
    "            self.visit(node.rightChild)\n",
    "            if node.leftChild is None and node.rightChild is None:\n",
    "                if node.cost >= self.MaxNodeCost:\n",
    "                    self.MaxNode = node\n",
    "                    self.MaxNodeCost = node.cost\n",
    "    \n",
    "    def propagateUp(self, node):\n",
    "        if node:\n",
    "            self.propagateUp(node.leftChild)\n",
    "            self.propagateUp(node.rightChild)\n",
    "            if node.leftChild and node.rightChild:\n",
    "                node.cost = node.leftChild.cost + node.rightChild.cost\n",
    "    "
   ]
  },
  {
   "cell_type": "code",
   "execution_count": null,
   "metadata": {},
   "outputs": [],
   "source": [
    "if __name__ == \"__main__\":\n",
    "    # Example usage\n",
    "    np.random.seed(42)\n",
    "    N = 1000\n",
    "    K = 3\n",
    "    means = np.array([[0, 0], [5, 5], [10, 0]])\n",
    "    cov = np.eye(2)\n",
    "    # this is a 3x1000 array of random multivariate normal distributions\n",
    "    X = np.vstack([np.random.multivariate_normal(mean, cov, int(N / K)) for mean in means])\n",
    "    gg = CoreSetTree(X, 230)\n",
    "    gg.fit()\n",
    "    \n",
    "    plt.scatter(X[:,0], X[:,1])\n",
    "    plt.scatter(gg.coreset[:,0], gg.coreset[:,1], marker='x', s=200)\n",
    "    plt.show()\n",
    "    "
   ]
  }
 ],
 "metadata": {
  "kernelspec": {
   "display_name": "ml",
   "language": "python",
   "name": "python3"
  },
  "language_info": {
   "codemirror_mode": {
    "name": "ipython",
    "version": 3
   },
   "file_extension": ".py",
   "mimetype": "text/x-python",
   "name": "python",
   "nbconvert_exporter": "python",
   "pygments_lexer": "ipython3",
   "version": "3.11.3"
  },
  "orig_nbformat": 4
 },
 "nbformat": 4,
 "nbformat_minor": 2
}
